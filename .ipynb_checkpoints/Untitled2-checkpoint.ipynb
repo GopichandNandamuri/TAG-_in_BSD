{
 "cells": [
  {
   "cell_type": "code",
   "execution_count": 13,
   "metadata": {},
   "outputs": [
    {
     "data": {
      "image/png": "[encoded data removed]",
      "text/plain": [
       "<Figure size 432x288 with 2 Axes>"
      ]
     },
     "metadata": {},
     "output_type": "display_data"
    }
   ],
   "source": [
    "import numpy as np\n",
    "import matplotlib.pyplot as plt\n",
    "\n",
    "# Data\n",
    "states = [\"AK\", \"TX\", \"CA\", \"MT\", \"NM\", \"AZ\", \"NV\", \"CO\", \"OR\", \"WY\", \"MI\",\n",
    "          \"MN\", \"UT\", \"ID\", \"KS\", \"NE\", \"SD\", \"WA\", \"ND\", \"OK\"]\n",
    "staff = np.array([20, 30, 40, 10, 15, 35, 18, 25, 22, 7, 12, 22, 3, 4, 5, 8,\n",
    "                  14, 28, 24, 32])\n",
    "sales = staff * (20 + 10 * np.random.random(staff.size))\n",
    "\n",
    "# Sort by number of sales staff\n",
    "idx = staff.argsort()\n",
    "states, staff, sales = [np.take(x, idx) for x in [states, staff, sales]]\n",
    "\n",
    "y = np.arange(sales.size)\n",
    "\n",
    "fig, axes = plt.subplots(ncols=4, sharey=True)\n",
    "axes[0].barh(y, staff, align='center', color='gray', zorder=10)\n",
    "axes[0].set(title='Number of sales staff')\n",
    "axes[1].barh(y, sales, align='center', color='gray', zorder=10)\n",
    "axes[1].set(title='Sales (x $1000)')\n",
    "\n",
    "axes[0].invert_xaxis()\n",
    "axes[0].set(yticks=y, yticklabels=states)\n",
    "axes[0].yaxis.tick_right()\n",
    "\n",
    "for ax in axes.flat:\n",
    "    ax.margins(0.03)\n",
    "    ax.grid(False)\n",
    "\n",
    "fig.tight_layout()\n",
    "fig.subplots_adjust(wspace=0.09)\n",
    "plt.show()"
   ]
  },
  {
   "cell_type": "code",
   "execution_count": null,
   "metadata": {},
   "outputs": [],
   "source": []
  }
 ],
 "metadata": {
  "kernelspec": {
   "display_name": "Python 3",
   "language": "python",
   "name": "python3"
  },
  "language_info": {
   "codemirror_mode": {
    "name": "ipython",
    "version": 3
   },
   "file_extension": ".py",
   "mimetype": "text/x-python",
   "name": "python",
   "nbconvert_exporter": "python",
   "pygments_lexer": "ipython3",
   "version": "3.6.5"
  }
 },
 "nbformat": 4,
 "nbformat_minor": 2
}
